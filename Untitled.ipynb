{
 "cells": [
  {
   "cell_type": "code",
   "execution_count": 1,
   "metadata": {},
   "outputs": [
    {
     "name": "stdout",
     "output_type": "stream",
     "text": [
      "Requirement already satisfied: lasso in c:\\users\\m_kin\\anaconda3\\lib\\site-packages (0.0.5)\n",
      "Requirement already satisfied: delorean>=0.4.4 in c:\\users\\m_kin\\anaconda3\\lib\\site-packages (from lasso) (1.0.0)\n",
      "Requirement already satisfied: schema<0.4.0,>=0.3.1 in c:\\users\\m_kin\\anaconda3\\lib\\site-packages (from lasso) (0.3.1)\n",
      "Requirement already satisfied: tzlocal>=1.2 in c:\\users\\m_kin\\anaconda3\\lib\\site-packages (from delorean>=0.4.4->lasso) (2.1)\n",
      "Requirement already satisfied: python-dateutil>=2.4.2 in c:\\users\\m_kin\\anaconda3\\lib\\site-packages (from delorean>=0.4.4->lasso) (2.8.1)\n",
      "Requirement already satisfied: babel>=2.1.1 in c:\\users\\m_kin\\anaconda3\\lib\\site-packages (from delorean>=0.4.4->lasso) (2.8.0)\n",
      "Requirement already satisfied: pytz>=2015.7 in c:\\users\\m_kin\\anaconda3\\lib\\site-packages (from delorean>=0.4.4->lasso) (2019.3)\n",
      "Requirement already satisfied: humanize>=0.5.1 in c:\\users\\m_kin\\anaconda3\\lib\\site-packages (from delorean>=0.4.4->lasso) (3.4.1)\n",
      "Requirement already satisfied: six>=1.5 in c:\\users\\m_kin\\anaconda3\\lib\\site-packages (from python-dateutil>=2.4.2->delorean>=0.4.4->lasso) (1.14.0)\n",
      "Requirement already satisfied: setuptools in c:\\users\\m_kin\\anaconda3\\lib\\site-packages (from humanize>=0.5.1->delorean>=0.4.4->lasso) (45.2.0.post20200210)\n"
     ]
    }
   ],
   "source": [
    "#!pip install qd\n",
    "!pip install lasso"
   ]
  },
  {
   "cell_type": "code",
   "execution_count": 4,
   "metadata": {},
   "outputs": [
    {
     "ename": "AttributeError",
     "evalue": "module 'lasso' has no attribute 'dyna'",
     "output_type": "error",
     "traceback": [
      "\u001b[1;31m---------------------------------------------------------------------------\u001b[0m",
      "\u001b[1;31mAttributeError\u001b[0m                            Traceback (most recent call last)",
      "\u001b[1;32m<ipython-input-4-e72735b3a316>\u001b[0m in \u001b[0;36m<module>\u001b[1;34m\u001b[0m\n\u001b[0;32m      2\u001b[0m \u001b[1;32mimport\u001b[0m \u001b[0mlasso\u001b[0m\u001b[1;33m\u001b[0m\u001b[1;33m\u001b[0m\u001b[0m\n\u001b[0;32m      3\u001b[0m \u001b[1;31m#from lasso.dyna import D3plot, ArrayType, FilterType\u001b[0m\u001b[1;33m\u001b[0m\u001b[1;33m\u001b[0m\u001b[1;33m\u001b[0m\u001b[0m\n\u001b[1;32m----> 4\u001b[1;33m \u001b[0md3plot\u001b[0m \u001b[1;33m=\u001b[0m \u001b[0mlasso\u001b[0m\u001b[1;33m.\u001b[0m\u001b[0mdyna\u001b[0m\u001b[1;33m.\u001b[0m\u001b[0mD3plot\u001b[0m\u001b[1;33m(\u001b[0m\u001b[1;34m'data/d3plot'\u001b[0m\u001b[1;33m,\u001b[0m \u001b[0mread_states\u001b[0m\u001b[1;33m=\u001b[0m\u001b[1;34m'disp'\u001b[0m\u001b[1;33m)\u001b[0m\u001b[1;33m\u001b[0m\u001b[1;33m\u001b[0m\u001b[0m\n\u001b[0m",
      "\u001b[1;31mAttributeError\u001b[0m: module 'lasso' has no attribute 'dyna'"
     ]
    }
   ],
   "source": [
    "#from qd.cae.dyna import D3plot\n",
    "import lasso\n",
    "#from lasso.dyna import D3plot, ArrayType, FilterType\n",
    "d3plot = lasso.dyna.D3plot('data/d3plot', read_states='disp')"
   ]
  },
  {
   "cell_type": "code",
   "execution_count": null,
   "metadata": {},
   "outputs": [],
   "source": []
  }
 ],
 "metadata": {
  "kernelspec": {
   "display_name": "Python 3",
   "language": "python",
   "name": "python3"
  },
  "language_info": {
   "codemirror_mode": {
    "name": "ipython",
    "version": 3
   },
   "file_extension": ".py",
   "mimetype": "text/x-python",
   "name": "python",
   "nbconvert_exporter": "python",
   "pygments_lexer": "ipython3",
   "version": "3.7.6"
  }
 },
 "nbformat": 4,
 "nbformat_minor": 4
}
